{
 "cells": [
  {
   "cell_type": "code",
   "execution_count": null,
   "id": "initial_id",
   "metadata": {
    "collapsed": true
   },
   "outputs": [],
   "source": [
    "import streamlit as st\n",
    "import plotly.express as px\n",
    "import pandas as pd\n"
   ]
  },
  {
   "metadata": {
    "ExecuteTime": {
     "end_time": "2024-07-21T21:24:34.519774Z",
     "start_time": "2024-07-21T21:24:34.116433Z"
    }
   },
   "cell_type": "code",
   "source": [
    "import pandas as pd\n",
    "import random\n",
    "\n",
    "# Lists of possible values for each column\n",
    "frame_types = ['Full-rimmed', 'Rimless', 'Wire', 'Low Bridge', 'Semi-Rimless', 'Aviator', 'Cat Eye', 'Rectangular', 'Oval', 'Round']\n",
    "brands = ['Ray-Ban', 'Oakley', 'Warby Parker', 'Persol', 'Gucci', 'Prada', 'Tom Ford', 'Maui Jim', 'Oliver Peoples', 'Versace',\n",
    "          'Burberry', 'Silhouette', 'Moscot', 'Jimmy Choo', 'Spy', 'Lindberg', 'Carrera', 'Zenni Optical', 'Dior']\n",
    "\n",
    "# Function to generate random price\n",
    "def random_price():\n",
    "    return round(random.uniform(50, 800), 2)\n",
    "\n",
    "# Function to generate random inventory count\n",
    "def random_inventory():\n",
    "    return random.randint(1, 200)\n",
    "\n",
    "# Generate data\n",
    "data = {\n",
    "    'Frame Type': [random.choice(frame_types) for _ in range(100)],\n",
    "    'Brand': [random.choice(brands) for _ in range(100)],\n",
    "    'Price': [random_price() for _ in range(100)],\n",
    "    'Inventory Count': [random_inventory() for _ in range(100)]\n",
    "}\n",
    "\n",
    "# Create DataFrame\n",
    "df = pd.DataFrame(data)\n",
    "\n",
    "# Save to CSV\n",
    "df.to_csv('glasses_frames_data.csv', index=False)\n",
    "\n",
    "print(\"CSV file 'glasses_frames_data.csv' has been generated with 100 rows of data.\")\n",
    "\n",
    "# Display first few rows of the DataFrame\n",
    "print(df.head())"
   ],
   "id": "ea2b039dc71b4f60",
   "outputs": [
    {
     "name": "stdout",
     "output_type": "stream",
     "text": [
      "CSV file 'glasses_frames_data.csv' has been generated with 100 rows of data.\n",
      "   Frame Type     Brand   Price  Inventory Count\n",
      "0     Aviator  Tom Ford  390.47               59\n",
      "1  Low Bridge  Lindberg  575.87               99\n",
      "2       Round     Prada  406.28              126\n",
      "3  Low Bridge  Burberry  380.94              187\n",
      "4     Rimless       Spy  689.26               90\n"
     ]
    }
   ],
   "execution_count": 1
  },
  {
   "metadata": {},
   "cell_type": "code",
   "outputs": [],
   "execution_count": null,
   "source": "",
   "id": "8931426c611a94f7"
  }
 ],
 "metadata": {
  "kernelspec": {
   "display_name": "Python 3",
   "language": "python",
   "name": "python3"
  },
  "language_info": {
   "codemirror_mode": {
    "name": "ipython",
    "version": 2
   },
   "file_extension": ".py",
   "mimetype": "text/x-python",
   "name": "python",
   "nbconvert_exporter": "python",
   "pygments_lexer": "ipython2",
   "version": "2.7.6"
  }
 },
 "nbformat": 4,
 "nbformat_minor": 5
}
